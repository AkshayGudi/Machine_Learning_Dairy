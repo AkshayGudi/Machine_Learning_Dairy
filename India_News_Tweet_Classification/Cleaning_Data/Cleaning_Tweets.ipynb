{
 "cells": [
  {
   "cell_type": "markdown",
   "metadata": {},
   "source": [
    "# Cleaning The Tweets Related To NDTV And Republic"
   ]
  },
  {
   "cell_type": "code",
   "execution_count": 1,
   "metadata": {},
   "outputs": [],
   "source": [
    "import pandas as pd\n",
    "import re"
   ]
  },
  {
   "cell_type": "markdown",
   "metadata": {},
   "source": [
    "Method to remove unwanted characters from tweet such as newline, tab, \"http\", break tag"
   ]
  },
  {
   "cell_type": "code",
   "execution_count": 3,
   "metadata": {},
   "outputs": [],
   "source": [
    "def get_dataframe(dataset, channel):\n",
    "    all_tweets = []\n",
    "    for i in range(0,dataset['Text'].count()):\n",
    "        tweet = re.sub(\"^b'|^b\\\"\",\"\", dataset['Text'][i])\n",
    "        tweet = re.sub(r'http.*$| \\nhttp.*$', \"\", tweet)\n",
    "        tweet = re.sub(r'\\\\x.*$', \"\", tweet)\n",
    "        tweet = re.sub(r'\\\\n','',tweet)\n",
    "        tweet = re.sub(r'\\\\t','',tweet)\n",
    "        print(tweet + \" == \" + str(i))\n",
    "        if tweet.strip():\n",
    "            all_tweets.append(tweet)       \n",
    "    df = pd.DataFrame(all_tweets,columns=[\"Text\"])\n",
    "    print(channel)\n",
    "    df[\"Channel\"] = [channel]*len(all_tweets)\n",
    "    return df"
   ]
  },
  {
   "cell_type": "markdown",
   "metadata": {},
   "source": [
    "Import the dataset"
   ]
  },
  {
   "cell_type": "code",
   "execution_count": null,
   "metadata": {},
   "outputs": [],
   "source": [
    "dataset1 = pd.read_csv(\"ndtv_tweets_file.csv\")\n",
    "dataset2 = pd.read_csv(\"republic_tweets.csv\")"
   ]
  },
  {
   "cell_type": "markdown",
   "metadata": {},
   "source": [
    "Clean each Data set"
   ]
  },
  {
   "cell_type": "code",
   "execution_count": null,
   "metadata": {},
   "outputs": [],
   "source": [
    "df1  = get_dataframe(dataset1,\"NDTV\")\n",
    "df2  = get_dataframe(dataset2,\"Republic\")"
   ]
  },
  {
   "cell_type": "markdown",
   "metadata": {},
   "source": [
    "Concatenate and export the tweet as TSV (Tab separated Value) file"
   ]
  },
  {
   "cell_type": "code",
   "execution_count": null,
   "metadata": {},
   "outputs": [],
   "source": [
    "fin_ds = pd.concat([df1,df2])\n",
    "\n",
    "fin_ds.to_csv(\"all_news_tweets.tsv\", sep='\\t', encoding='utf-8',index=False)"
   ]
  },
  {
   "cell_type": "code",
   "execution_count": null,
   "metadata": {},
   "outputs": [],
   "source": []
  }
 ],
 "metadata": {
  "kernelspec": {
   "display_name": "Python 3",
   "language": "python",
   "name": "python3"
  },
  "language_info": {
   "codemirror_mode": {
    "name": "ipython",
    "version": 3
   },
   "file_extension": ".py",
   "mimetype": "text/x-python",
   "name": "python",
   "nbconvert_exporter": "python",
   "pygments_lexer": "ipython3",
   "version": "3.7.3"
  }
 },
 "nbformat": 4,
 "nbformat_minor": 2
}
