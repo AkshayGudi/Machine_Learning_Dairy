{
 "cells": [
  {
   "cell_type": "markdown",
   "metadata": {},
   "source": [
    "# Training and Classifying the Tweets"
   ]
  },
  {
   "cell_type": "markdown",
   "metadata": {},
   "source": [
    "Importing the Libraries"
   ]
  },
  {
   "cell_type": "code",
   "execution_count": null,
   "metadata": {},
   "outputs": [],
   "source": [
    "import pandas as pd\n",
    "import numpy as np\n",
    "import matplotlib.pyplot as plt\n",
    "\n",
    "#Cleaning the text\n",
    "import re\n",
    "import nltk \n",
    "nltk.download(\"stopwords\")\n",
    "from nltk.corpus import stopwords\n",
    "from nltk.stem.porter import PorterStemmer\n",
    "\n",
    "#Creating Bag of words\n",
    "from sklearn.feature_extraction.text import CountVectorizer\n",
    "\n",
    "#Encode categorical variable\n",
    "from sklearn.compose import ColumnTransformer\n",
    "from sklearn.preprocessing import OneHotEncoder\n",
    "\n",
    "#To splitiing training and testing data\n",
    "from sklearn.model_selection import train_test_split\n",
    "\n",
    "#Training\n",
    "from sklearn.naive_bayes import GaussianNB\n",
    "\n",
    "#Using Random Forest\n",
    "from sklearn.ensemble import RandomForestClassifier\n",
    "\n",
    "#Metrics\n",
    "from sklearn.metrics import confusion_matrix\n"
   ]
  },
  {
   "cell_type": "markdown",
   "metadata": {},
   "source": [
    "Importing Dataset"
   ]
  },
  {
   "cell_type": "code",
   "execution_count": null,
   "metadata": {},
   "outputs": [],
   "source": [
    "#Import Data set\n",
    "dataset = pd.read_csv(filepath_or_buffer=\"all_news_tweets.tsv\", delimiter=\"\\t\")"
   ]
  },
  {
   "cell_type": "markdown",
   "metadata": {},
   "source": [
    "Cleaning the data"
   ]
  },
  {
   "cell_type": "code",
   "execution_count": null,
   "metadata": {},
   "outputs": [],
   "source": [
    "#Cleaning the Data\n",
    "corpus = []\n",
    "for i in range(0,dataset['Text'].count()):\n",
    "    \n",
    "    #Remove non alphabetic data\n",
    "    tweet_text  = re.sub('[^a-zA-Z]',' ',dataset['Text'][i])\n",
    "    \n",
    "    #Convert all to lower case\n",
    "    tweet_text = tweet_text.lower()\n",
    "    \n",
    "    #Steming the data\n",
    "    tweet_text = tweet_text.split() \n",
    "    ps = PorterStemmer()\n",
    "    tweet_text = [ps.stem(word) for word in tweet_text if not word in set(stopwords.words('english'))] \n",
    "    tweet_text = ' '.join(tweet_text)\n",
    "    corpus.append(tweet_text)"
   ]
  },
  {
   "cell_type": "markdown",
   "metadata": {},
   "source": [
    "Creating Bag of Words"
   ]
  },
  {
   "cell_type": "code",
   "execution_count": null,
   "metadata": {},
   "outputs": [],
   "source": [
    "#Creating Bag of words\n",
    "cv = CountVectorizer(max_features=1500)\n",
    "X = cv.fit_transform(corpus).toarray()\n",
    "y = dataset.iloc[:,1:].values"
   ]
  },
  {
   "cell_type": "markdown",
   "metadata": {},
   "source": [
    "Encoding Categorical data"
   ]
  },
  {
   "cell_type": "code",
   "execution_count": null,
   "metadata": {},
   "outputs": [],
   "source": [
    "#Encode categroical data\n",
    "ct = ColumnTransformer([('encoder',OneHotEncoder(),[0])], remainder=\"passthrough\")\n",
    "y = np.array(ct.fit_transform(y), dtype = np.float)\n",
    "\n",
    "#Avoid dummy variable trap\n",
    "y = y[:,1:]"
   ]
  },
  {
   "cell_type": "markdown",
   "metadata": {},
   "source": [
    "Splitting Data set into training and testing"
   ]
  },
  {
   "cell_type": "code",
   "execution_count": null,
   "metadata": {},
   "outputs": [],
   "source": [
    "#Splittng Dataset\n",
    "X_train,X_test,y_train,y_test = train_test_split(X,y,test_size=0.2,random_state=0)"
   ]
  },
  {
   "cell_type": "markdown",
   "metadata": {},
   "source": [
    "Training and Classifying Data using Naive Bayes"
   ]
  },
  {
   "cell_type": "code",
   "execution_count": null,
   "metadata": {},
   "outputs": [],
   "source": [
    "#Training\n",
    "classifier = GaussianNB()\n",
    "classifier.fit(X_train,y_train)\n",
    "\n",
    "y_pred = classifier.predict(X_test)\n",
    "\n",
    "cm = confusion_matrix(y_test,y_pred)"
   ]
  },
  {
   "cell_type": "markdown",
   "metadata": {},
   "source": [
    "Looking at Metrics"
   ]
  },
  {
   "cell_type": "code",
   "execution_count": null,
   "metadata": {},
   "outputs": [],
   "source": [
    "#Accuracy\n",
    "acc = (cm[0][0] + cm[1][1])/ np.sum(cm)\n",
    "print(\"Accurancy is {0}\".format(acc*100))\n",
    "\n",
    "#Recall\n",
    "recall = cm[1][1]/(cm[1][1] + cm[1][0])\n",
    "print(\"Recall is {0}\".format(recall*100))\n",
    "\n",
    "#Precision\n",
    "prec = cm[1][1]/(cm[1][1] + cm[0][1])\n",
    "print(\"Precision is {0}\".format(prec*100))\n",
    "\n",
    "#F1 Score\n",
    "f1_score = 2 * prec * recall/(prec+recall)\n",
    "print(\"F1 Score {0}\".format(f1_score))"
   ]
  },
  {
   "cell_type": "markdown",
   "metadata": {},
   "source": [
    "Training and Classifying using Random Forest"
   ]
  },
  {
   "cell_type": "code",
   "execution_count": null,
   "metadata": {},
   "outputs": [],
   "source": [
    "#Using Random Forest\n",
    "rf_classifier = RandomForestClassifier(n_estimators=10,criterion=\"entropy\")\n",
    "rf_classifier.fit(X_train,y_train)\n",
    "\n",
    "y_pred2 = rf_classifier.predict(X_test)\n",
    "\n",
    "cm_rf = confusion_matrix(y_test,y_pred2)"
   ]
  },
  {
   "cell_type": "markdown",
   "metadata": {},
   "source": [
    "Looking at Metrics"
   ]
  },
  {
   "cell_type": "code",
   "execution_count": null,
   "metadata": {},
   "outputs": [],
   "source": [
    "#Accuracy\n",
    "acc_rf = (cm_rf[0][0] + cm_rf[1][1])/ np.sum(cm_rf)\n",
    "print(\"Accurancy is {0}\".format(acc_rf*100))\n",
    "\n",
    "#Recall\n",
    "recall_rf = cm_rf[1][1]/(cm_rf[1][1] + cm_rf[1][0])\n",
    "print(\"Recall is {0}\".format(recall_rf*100))\n",
    "\n",
    "#Precision\n",
    "prec_rf = cm_rf[1][1]/(cm_rf[1][1] + cm_rf[0][1])\n",
    "print(\"Precision is {0}\".format(prec_rf*100))\n",
    "\n",
    "#F1 Score\n",
    "f1_score_rf = 2 * prec_rf * recall_rf/(prec_rf+recall_rf)\n",
    "print(\"F1 Score {0}\".format(f1_score_rf))"
   ]
  }
 ],
 "metadata": {
  "kernelspec": {
   "display_name": "Python 3",
   "language": "python",
   "name": "python3"
  },
  "language_info": {
   "codemirror_mode": {
    "name": "ipython",
    "version": 3
   },
   "file_extension": ".py",
   "mimetype": "text/x-python",
   "name": "python",
   "nbconvert_exporter": "python",
   "pygments_lexer": "ipython3",
   "version": "3.7.3"
  }
 },
 "nbformat": 4,
 "nbformat_minor": 2
}
